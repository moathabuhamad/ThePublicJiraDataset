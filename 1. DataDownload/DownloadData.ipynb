{
 "cells": [
  {
   "cell_type": "markdown",
   "id": "8ed486d2",
   "metadata": {},
   "source": [
    "# Imports"
   ]
  },
  {
   "cell_type": "code",
   "execution_count": null,
   "id": "b3cc94bb",
   "metadata": {
    "tags": []
   },
   "outputs": [],
   "source": [
    "import requests  # To get the data\n",
    "from requests.adapters import HTTPAdapter\n",
    "from requests.packages.urllib3.util.retry import Retry\n",
    "\n",
    "from pymongo import MongoClient  # Database to store the data\n",
    "import json  # File IO\n",
    "from time import time  # To time the duration of the requests\n",
    "from time import sleep\n",
    "from IPython.display import display, clear_output\n",
    "import urllib3\n",
    "urllib3.disable_warnings(urllib3.exceptions.InsecureRequestWarning)"
   ]
  },
  {
   "cell_type": "markdown",
   "id": "6b2d3f2b",
   "metadata": {},
   "source": [
    "# Load Program Data"
   ]
  },
  {
   "cell_type": "code",
   "execution_count": null,
   "id": "2d899568",
   "metadata": {
    "tags": []
   },
   "outputs": [],
   "source": [
    "# Get list of Jira sources\n",
    "with open('../0. DataDefinition/jira_data_sources.json') as f:\n",
    "    jira_data_sources = json.load(f)\n",
    "    \n",
    "# Connect to the database\n",
    "db = MongoClient()['JiraRepos']\n",
    "\n",
    "# Now-Invalid Jiras\n",
    "INVALID_JIRAS = ['Mindville', 'MariaDB']"
   ]
  },
  {
   "cell_type": "markdown",
   "id": "8134006c",
   "metadata": {
    "heading_collapsed": "true",
    "tags": []
   },
   "source": [
    "# Investigate Jira Data Accessibility"
   ]
  },
  {
   "cell_type": "code",
   "execution_count": null,
   "id": "55f240e8",
   "metadata": {
    "tags": []
   },
   "outputs": [],
   "source": [
    "def check_jira_url(jira_url):\n",
    "    print('')\n",
    "    print(f\"💡 Check Jira: {jira_url}\")\n",
    "    print('')\n",
    "    ## CHECK PROVIDED JIRA URL AVAILABILITY ##\n",
    "    print(f'Checking Jira url existence with GET: {jira_url}')\n",
    "    try:\n",
    "        requests.head(jira_url)\n",
    "    except ConnectionError:\n",
    "        print('❌ Provided Jira base url does not exist')\n",
    "        return\n",
    "    else:\n",
    "        print('✅ Provided Jira base url is reachable')\n",
    "        \n",
    "    ## CHECK PROVIDED JIRA URL API AVAILABILITY ##\n",
    "    response = requests.get(jira_url + '/rest/api/2/issuetype')\n",
    "    print('')\n",
    "    print(f'Checking Jira api with GET: {response.url}')\n",
    "    # Check response code\n",
    "    if response.status_code < 300:\n",
    "        print('✅ Jira API returned a successful response')\n",
    "    else:\n",
    "        print(response.status_code)\n",
    "        print(response.text)\n",
    "        print(response.url)\n",
    "        print('❌ Jira API did not return a successful response')\n",
    "        return\n",
    "    \n",
    "    ## CHECK NUMBER OF ISSUES ##\n",
    "    response = requests.get(jira_url + '/rest/api/2/search?jql=&maxResults=0')\n",
    "    print('')\n",
    "    print(f\"Retrieving total issue count with GET: {response.url}\")\n",
    "    # Check response code\n",
    "    if response.status_code < 300:\n",
    "        print(f\"Total Number of Issues: {response.json()['total']}\")\n",
    "        print('✅ Jira API returned a successful response')\n",
    "    else:\n",
    "        print(response.status_code)\n",
    "        print(response.text)\n",
    "        print(response.url)\n",
    "        print('❌ Jira API did not return a successful response')\n",
    "        return"
   ]
  },
  {
   "cell_type": "code",
   "execution_count": null,
   "id": "9332fdac",
   "metadata": {
    "tags": []
   },
   "outputs": [],
   "source": [
    "# Check all Jira URLs in provided jira_data_sources\n",
    "for jira_name, jira_obj in jira_data_sources.items():\n",
    "    \n",
    "    # Ignore Jiras that we know are now unreachable or empty\n",
    "    if jira_name in INVALID_JIRAS:\n",
    "        continue\n",
    "    \n",
    "    check_jira_url(jira_obj['jira_url'])"
   ]
  },
  {
   "cell_type": "markdown",
   "id": "bfb8ffa7",
   "metadata": {},
   "source": [
    "# Download Jira Data"
   ]
  },
  {
   "cell_type": "markdown",
   "id": "e0b910ab",
   "metadata": {
    "heading_collapsed": "true",
    "tags": []
   },
   "source": [
    "### Helper Functions"
   ]
  },
  {
   "cell_type": "code",
   "execution_count": null,
   "id": "41a5042e",
   "metadata": {
    "tags": []
   },
   "outputs": [],
   "source": [
    "def format_duration(start_time, end_time):\n",
    "    # Get the total seconds of the duration\n",
    "    seconds = end_time - start_time\n",
    "    # Calculate the other time \n",
    "    milliseconds = int((seconds % 1) * 10000)\n",
    "    minutes = int(seconds / 60)\n",
    "    hours   = int(minutes / 60)\n",
    "    # Trim the values to fit in their appopriate slots\n",
    "    display_minutes = int(minutes % 60)\n",
    "    display_seconds = int(seconds % 60)\n",
    "\n",
    "    return f\"{hours:02}:{display_minutes:02}:{display_seconds:02}.{milliseconds:04}\""
   ]
  },
  {
   "cell_type": "markdown",
   "id": "c6a95aec",
   "metadata": {
    "heading_collapsed": "true",
    "tags": []
   },
   "source": [
    "### Download Jira Issue Type Information"
   ]
  },
  {
   "cell_type": "code",
   "execution_count": null,
   "id": "e40b1b5c",
   "metadata": {
    "tags": []
   },
   "outputs": [],
   "source": [
    "# Write the result to a JSON\n",
    "output_json = {}\n",
    "\n",
    "for jira_name, jira_data in jira_data_sources.items():\n",
    "    \n",
    "    # Ignore Jiras that we know are now unreachable or empty\n",
    "    if jira_name in INVALID_JIRAS:\n",
    "        continue\n",
    "\n",
    "    # Build the URL to get the information from\n",
    "    jira_issuetype_url = jira_data['jira_url'] + '/rest/api/2/issuetype'\n",
    "\n",
    "    # Get the issuetype definitions\n",
    "    documented_issuetypes = {\n",
    "        issuetype['name']: issuetype\n",
    "        for issuetype in requests.get(jira_issuetype_url).json()\n",
    "    }\n",
    "\n",
    "    # Save the information\n",
    "    output_json[jira_name] = documented_issuetypes\n",
    "\n",
    "# Write JSON to file\n",
    "with open('jira_issuetype_information.json', 'w', encoding='utf-8') as json_file:\n",
    "    json.dump(output_json, json_file, ensure_ascii=False, indent=4)"
   ]
  },
  {
   "cell_type": "markdown",
   "id": "8f6cf200-2a17-4aeb-8c32-67e37b8a7b33",
   "metadata": {
    "tags": []
   },
   "source": [
    "### Download Jira Issue Link Type Information"
   ]
  },
  {
   "cell_type": "code",
   "execution_count": null,
   "id": "0baccf37-5980-411f-b65d-71f619337540",
   "metadata": {
    "tags": []
   },
   "outputs": [],
   "source": [
    "# Write the result to a JSON\n",
    "output_json = {}\n",
    "\n",
    "for jira_name, jira_data in jira_data_sources.items():\n",
    "    \n",
    "    # Ignore Jiras that we know are now unreachable or empty\n",
    "    if jira_name in INVALID_JIRAS:\n",
    "        continue\n",
    "\n",
    "    # Build the URL to get the information from\n",
    "    jira_issuelinktype_url = jira_data['jira_url'] + '/rest/api/2/issueLinkType'\n",
    "\n",
    "    # Get the issuelinktype definitions\n",
    "    documented_issuelinktypes = {\n",
    "        issuelinktype['name']: issuelinktype\n",
    "        for issuelinktype in requests.get(jira_issuelinktype_url).json()['issueLinkTypes']\n",
    "    }\n",
    "\n",
    "    # Save the information\n",
    "    output_json[jira_name] = documented_issuelinktypes\n",
    "\n",
    "# Write JSON to file\n",
    "with open('jira_issuelinktype_information.json', 'w', encoding='utf-8') as json_file:\n",
    "    json.dump(output_json, json_file, ensure_ascii=False, indent=4)"
   ]
  },
  {
   "cell_type": "markdown",
   "id": "5246ff95-589a-4c8c-836c-c6a9ba920232",
   "metadata": {
    "heading_collapsed": "true",
    "tags": []
   },
   "source": [
    "### Download Jira Issue Field Information"
   ]
  },
  {
   "cell_type": "code",
   "execution_count": null,
   "id": "352ea43c-d9c3-4816-a50f-323e5ba1f55e",
   "metadata": {
    "tags": []
   },
   "outputs": [],
   "source": [
    "import requests\n",
    "from requests.auth import HTTPBasicAuth\n",
    "import json\n",
    "\n",
    "jiras_fields_information = {}\n",
    "\n",
    "for jira_name, jira_data in jira_data_sources.items():\n",
    "    \n",
    "    # Ignore Jiras that we know are now unreachable or empty\n",
    "    if jira_name in INVALID_JIRAS:\n",
    "        continue\n",
    "    \n",
    "    # Query Jira for field information\n",
    "    response = requests.get(f\"{jira_data['jira_url']}/rest/api/2/field\")\n",
    "    # Store result in JSON\n",
    "    jiras_fields_information[jira_name] = response.json()\n",
    "\n",
    "# Write JSON to file for later use\n",
    "with open('jira_field_information.json', 'w', encoding='utf-8') as json_file:\n",
    "    json.dump(jiras_fields_information, json_file, ensure_ascii=False, indent=4)"
   ]
  },
  {
   "cell_type": "markdown",
   "id": "dd6de073",
   "metadata": {
    "heading_collapsed": "true",
    "tags": []
   },
   "source": [
    "### Download Jira Data Commands"
   ]
  },
  {
   "cell_type": "code",
   "execution_count": null,
   "id": "1a8094d8",
   "metadata": {
    "tags": []
   },
   "outputs": [],
   "source": [
    "def download_and_write_data_mongo(\n",
    "    jira_data_source,\n",
    "    num_desired_results = None,  # Leave as \"None\" to download all, otherwise specify a number\n",
    "    iteration_max = 250,  # Recommended to keep at or below 500\n",
    "    start_index = 0,  # This allows you to start back up from a different place\n",
    "    ):\n",
    "    \n",
    "    def build_url(base_url, start_index, iteration_max=100):\n",
    "        return (\n",
    "            base_url +\n",
    "            f\"/rest/api/2/search?\"\n",
    "            f\"jql=\"\n",
    "            f\"&ORDER%20BY%20created%20ASC\"\n",
    "            f\"&startAt={start_index}\"\n",
    "            f\"&maxResults={iteration_max}\"\n",
    "            f\"&expand=changelog\"\n",
    "            )\n",
    "    \n",
    "    collection = db[jira_data_source['name']]\n",
    "\n",
    "    # iteration_max is the number of issues the script will attempt to get at one time.\n",
    "    # The Jira default max is 1000. Trying with 1000 consistently returned errors after a short while\n",
    "    # as the object being returned was likely too large. Values of 500 or less serve no particular issue\n",
    "    # to the script except that more calls (of smaller size) have to be made.\n",
    "    \n",
    "    # How many issues to collect before writing to MongoDB\n",
    "    num_issues_per_write = 10000\n",
    "\n",
    "    last_write_start_index = start_index\n",
    "    issues = []\n",
    "\n",
    "    # Available and requested number of results\n",
    "    num_available_results = requests.get(build_url(jira_data_source['jira_url'], 0,0)).json()['total']\n",
    "    print(f'Number of Desired Results   : {num_desired_results if num_desired_results else \"All\"}')\n",
    "    print(f'Number of Available Results : {num_available_results}')\n",
    "    print('')\n",
    "\n",
    "    # Set the number of results to retrieve based on information from Jira server\n",
    "    if not num_desired_results:\n",
    "        num_remaining_results = num_available_results\n",
    "    else:\n",
    "        num_remaining_results = min(int(num_desired_results), num_available_results)\n",
    "    # Adjust remaining results based on their start index\n",
    "    num_remaining_results -= start_index\n",
    "\n",
    "    # Collect results while there are more results to gather\n",
    "    issues_downloaded = 0\n",
    "    max_count_width = len(str(num_remaining_results)) + 1\n",
    "    print(f\"Total Remaining:{num_remaining_results:< {max_count_width}}\")\n",
    "    while(num_remaining_results > 0):\n",
    "\n",
    "        # Start a timer for this particular chunk\n",
    "        start_time = time()\n",
    "\n",
    "        # Number of items to retrieve\n",
    "        num_items_to_retrieve = min(iteration_max, num_remaining_results)\n",
    "        \n",
    "        # Get issues from Jira\n",
    "        url = build_url(jira_data_source['jira_url'], start_index, num_items_to_retrieve)\n",
    "        response = requests.get(url)\n",
    "        response_json = response.json()\n",
    "        if 'issues' in response_json:\n",
    "            # Add issues to program list\n",
    "            issues.extend(response_json['issues'])\n",
    "            num_returned_issues = len(response_json['issues'])\n",
    "\n",
    "        # Adjust the remaining results to get\n",
    "        num_remaining_results -= num_returned_issues\n",
    "\n",
    "        # Print progress for user\n",
    "        end_index = start_index + num_returned_issues - 1\n",
    "        print(\n",
    "            f\"Total Remaining:{num_remaining_results:< {max_count_width}}  \"\n",
    "            f\"Retrieved Items: {start_index:< {max_count_width}} - {end_index:< {max_count_width}}  \"\n",
    "            f\"Duration: {format_duration(start_time, time())}\")\n",
    "\n",
    "        # Move the start index\n",
    "        start_index += num_returned_issues\n",
    "\n",
    "        # Write the issues to file IF there are enough of them. This is a nice way to save state and start over at a\n",
    "        # certain place if there are too many to download in one go.\n",
    "        if len(issues) >= num_issues_per_write or num_remaining_results == 0 or num_returned_issues == 0:\n",
    "            # Write the data to mongodb\n",
    "            collection.insert_many(issues)\n",
    "\n",
    "            print('... Issues written to database ...')\n",
    "            last_write_start_index = start_index\n",
    "\n",
    "            issues_downloaded += len(issues)\n",
    "            issues = []  # Clear the issues so that our memory doesn't get too full\n",
    "\n",
    "        # If we have for some reason run out of results, we may want to react to this in some way\n",
    "        if num_returned_issues == 0:\n",
    "            print('Number of Returned Issues is 0. This is strange and should not happen. Investigate.')\n",
    "            return\n",
    "\n",
    "    print('')\n",
    "    print(f\"Number of Downloaded Issues: {issues_downloaded}\")"
   ]
  },
  {
   "cell_type": "code",
   "execution_count": null,
   "id": "62249515",
   "metadata": {
    "tags": []
   },
   "outputs": [],
   "source": [
    "# Last download time: 6h 47m\n",
    "download_and_write_data_mongo(jira_data_sources['Apache'])"
   ]
  },
  {
   "cell_type": "code",
   "execution_count": null,
   "id": "a1e3d4ae",
   "metadata": {
    "tags": []
   },
   "outputs": [],
   "source": [
    "# Last download time: 0h 27m\n",
    "download_and_write_data_mongo(jira_data_sources['Hyperledger'])"
   ]
  },
  {
   "cell_type": "code",
   "execution_count": null,
   "id": "a3f78ad1",
   "metadata": {
    "tags": []
   },
   "outputs": [],
   "source": [
    "# Last download time: 0h 5m\n",
    "download_and_write_data_mongo(jira_data_sources['IntelDAOS'])"
   ]
  },
  {
   "cell_type": "code",
   "execution_count": null,
   "id": "d4d09014",
   "metadata": {
    "tags": []
   },
   "outputs": [],
   "source": [
    "# Last download time: 0h 12m\n",
    "download_and_write_data_mongo(jira_data_sources['JFrog'])"
   ]
  },
  {
   "cell_type": "code",
   "execution_count": null,
   "id": "f575bc69",
   "metadata": {
    "tags": []
   },
   "outputs": [],
   "source": [
    "# Last download time: 6h 26m\n",
    "download_and_write_data_mongo(jira_data_sources['Jira'])"
   ]
  },
  {
   "cell_type": "code",
   "execution_count": null,
   "id": "eadf7403",
   "metadata": {
    "tags": []
   },
   "outputs": [],
   "source": [
    "# Last download time: 0h 30m\n",
    "download_and_write_data_mongo(jira_data_sources['JiraEcosystem'])"
   ]
  },
  {
   "cell_type": "code",
   "execution_count": null,
   "id": "6fe846a5",
   "metadata": {},
   "outputs": [],
   "source": [
    "# download_and_write_data_mongo(jira_data_sources['MariaDB'])"
   ]
  },
  {
   "cell_type": "code",
   "execution_count": null,
   "id": "6ab820ff",
   "metadata": {},
   "outputs": [],
   "source": [
    "# download_and_write_data_mongo(jira_data_sources['Mindville'])"
   ]
  },
  {
   "cell_type": "code",
   "execution_count": null,
   "id": "e6e89452-8e5b-4544-8cc6-9753f9e7cda4",
   "metadata": {
    "tags": []
   },
   "outputs": [],
   "source": [
    "# Last download time: 1h 26m\n",
    "download_and_write_data_mongo(jira_data_sources['Mojang'])"
   ]
  },
  {
   "cell_type": "code",
   "execution_count": null,
   "id": "fa6fc4a9",
   "metadata": {
    "tags": []
   },
   "outputs": [],
   "source": [
    "# Last download time: 3h 23m\n",
    "download_and_write_data_mongo(jira_data_sources['MongoDB'])"
   ]
  },
  {
   "cell_type": "code",
   "execution_count": null,
   "id": "1fa25d8e",
   "metadata": {
    "tags": []
   },
   "outputs": [],
   "source": [
    "# Last download time: 0h 50m\n",
    "download_and_write_data_mongo(jira_data_sources['Qt'])"
   ]
  },
  {
   "cell_type": "code",
   "execution_count": null,
   "id": "0855624d",
   "metadata": {
    "tags": []
   },
   "outputs": [],
   "source": [
    "# Last download time: 3h 58m\n",
    "download_and_write_data_mongo(jira_data_sources['RedHat'])"
   ]
  },
  {
   "cell_type": "code",
   "execution_count": null,
   "id": "b5af1724",
   "metadata": {
    "tags": []
   },
   "outputs": [],
   "source": [
    "# Last download time: 0h 24m\n",
    "download_and_write_data_mongo(jira_data_sources['Sakai'])"
   ]
  },
  {
   "cell_type": "code",
   "execution_count": null,
   "id": "fbe351a1",
   "metadata": {
    "tags": []
   },
   "outputs": [],
   "source": [
    "# Last download time: 1h 25m\n",
    "download_and_write_data_mongo(jira_data_sources['SecondLife'])"
   ]
  },
  {
   "cell_type": "code",
   "execution_count": null,
   "id": "d9e7ed72",
   "metadata": {
    "tags": []
   },
   "outputs": [],
   "source": [
    "# Last download time: 1h 25m\n",
    "download_and_write_data_mongo(jira_data_sources['Sonatype'])"
   ]
  },
  {
   "cell_type": "code",
   "execution_count": null,
   "id": "a90441f3",
   "metadata": {
    "tags": []
   },
   "outputs": [],
   "source": [
    "# Last download time: 0h 20m\n",
    "download_and_write_data_mongo(jira_data_sources['Spring'])"
   ]
  },
  {
   "cell_type": "markdown",
   "id": "7f49ee68-2b37-4a86-aff2-309166545605",
   "metadata": {},
   "source": [
    "### Download Jira Issue Comments"
   ]
  },
  {
   "cell_type": "code",
   "execution_count": null,
   "id": "ee55ca0b",
   "metadata": {
    "tags": []
   },
   "outputs": [],
   "source": [
    "def download_jira_issue_comments(jira_data_source, *, max_comments_per_query=50, resume_at_date='0', query_wait_time_minutes=None):\n",
    "    \n",
    "    def build_url(base_url, issue_key, comments_start_index=0, max_comments_per_query=max_comments_per_query):\n",
    "        return (\n",
    "            base_url +\n",
    "            f\"/rest/api/2/issue/{issue_key}/comment\"\n",
    "            f\"?orderBy=created\"\n",
    "            f\"&startAt={comments_start_index}\"\n",
    "            f\"&maxResults={max_comments_per_query}\"\n",
    "            )\n",
    "    \n",
    "    # Initialise requests object with configurations to make it more stable\n",
    "    session = requests.Session()\n",
    "    retry = Retry(total=4, connect=4, backoff_factor=0.5)\n",
    "    adapter = HTTPAdapter(max_retries=retry)\n",
    "    session.mount('http://', adapter)\n",
    "    session.mount('https://', adapter)\n",
    "    \n",
    "    acceptable_failure_messages = [\n",
    "        'Login Required',\n",
    "        'Issue Does Not Exist',\n",
    "        'Issue does not exist or you do not have permission to see it.',\n",
    "    ]\n",
    "    \n",
    "    progress_bar_num_chunks = 100\n",
    "    progress_bar_last = -1\n",
    "\n",
    "    collection = db[jira_data_source['name']]\n",
    "\n",
    "    # Ignore Jiras that we know are now unreachable or empty\n",
    "    if jira_data_source['name'] in INVALID_JIRAS:\n",
    "        print(f\"Cannot download comments for {jira_data_source['name']} due to innaccessible Jira repo.\")\n",
    "        return\n",
    "    \n",
    "    print('Querying MongoDB for list of remaining issue keys to get comments for ...')\n",
    "\n",
    "    # The data is downloaded per issue key, so we must get a complete list of all issue keys\n",
    "    # This could be kept as a gnerator (by removing the explicit \"list()\" operator), but then we have to query the dataset twice.\n",
    "    # This is a space-time tradoff, and I have chosen time.\n",
    "    jira_issue_keys = list(collection.aggregate([\n",
    "        # Only get issues without comments already\n",
    "        { '$match': { 'fields.comments': { '$eq': None } } },\n",
    "        # We only need the issue id, key, created date\n",
    "        { '$project': { 'key': 1, 'created': '$fields.created' } },\n",
    "        # Only get issues at or equal to our \"resume\" date\n",
    "        { '$match': { 'created': { '$gte': resume_at_date } } },\n",
    "        # Sort the results by created date so we can resume if failure occurs\n",
    "        { '$sort': { 'created': 1 } },\n",
    "    ], allowDiskUse=True))\n",
    "    \n",
    "    # Get the total count of issues so we can get an understanding of progress\n",
    "    # jira_query_issue_count = collection.count_documents({ 'fields.created': { '$gte': resume_at_date } })\n",
    "    jira_query_issue_count = len(jira_issue_keys)\n",
    "    num_issues_complete = 0\n",
    "    \n",
    "    print(f\"There are {jira_query_issue_count} remaining issues.\")\n",
    "\n",
    "    # Loop through the issue keys, downloading the comments one at a time\n",
    "    for issue in jira_issue_keys:\n",
    "        \n",
    "        # print(f\"Working on issue {issue['key']} with creation date {issue['created']} ({num_issues_complete:,} / {jira_query_issue_count:,})\")\n",
    "        \n",
    "        issue_comments = []\n",
    "        comments_index = 0\n",
    "        \n",
    "        # Loop through comment downloads until all are downloaded. We don't know how many comments exist until we ask for the first N, so we need a while loop\n",
    "        while True:\n",
    "            \n",
    "            # Get the issue comments\n",
    "            url = build_url(jira_data_source['jira_url'], issue['key'], comments_start_index=comments_index)\n",
    "            response = session.get(url, verify=False)\n",
    "            response_json = response.json()\n",
    "            \n",
    "            # Check if the response is valid. If not, we skip to the next issue. Some issues are private, etc., so we skip them\n",
    "            if 'errorMessages' in response_json:\n",
    "                # Here are the error messages we may run into that we simply skip. We don't want to skip all error messages,\n",
    "                # so we only check a few here and otherwise break the script to investigate.\n",
    "                if [message for message in acceptable_failure_messages if message in response_json['errorMessages']]:\n",
    "                    break  # Break the while loop collecting comments for this issue, and move on to the next issue\n",
    "                # Otherwise ...\n",
    "                print(f\"\\nWas working on {issue['key']} with creation date {issue['created']} ({num_issues_complete:,} / {jira_query_issue_count:,})\")\n",
    "                print('\\nLast response json:')\n",
    "                display(response_json)\n",
    "                raise Exception('Not sure why the network request has failed.')\n",
    "            \n",
    "            # Save this round of issue comments\n",
    "            issue_comments.extend(response_json['comments'])\n",
    "            comments_index = len(issue_comments)\n",
    "            \n",
    "            # Wait a little as to not overload the number of requests being sent\n",
    "            if query_wait_time_minutes:\n",
    "                sleep(query_wait_time_minutes)\n",
    "            \n",
    "            # Check if we have collected all of the possible comments\n",
    "            if comments_index == response_json['total']:\n",
    "                break\n",
    "\n",
    "        # Write all of the comments to the MongoDB Jira issue at once\n",
    "        collection.update_one(\n",
    "            {'_id': issue['_id']},\n",
    "            { '$set': { 'fields.comments': issue_comments } }\n",
    "        )\n",
    "        \n",
    "        num_issues_complete += 1\n",
    "        \n",
    "        # Output progress\n",
    "        clear_output(wait=True)\n",
    "        print(f\"Jira: {jira_data_source['name']}\")\n",
    "        print(f\"Number of issues to download comments from: {jira_query_issue_count:,}\")\n",
    "        print(f\"resume_at_date: {resume_at_date}\")\n",
    "        print('')\n",
    "        print(f\"Last confirmed issue {issue['key']} with creation date {issue['created']} ({num_issues_complete:,} / {jira_query_issue_count:,})\")\n",
    "        print(f\"Progress: [{'#'*round((num_issues_complete/jira_query_issue_count)*progress_bar_num_chunks):.<{progress_bar_num_chunks}}]\")"
   ]
  },
  {
   "cell_type": "code",
   "execution_count": null,
   "id": "d9ecb491-e797-42ad-a5de-151578bd0904",
   "metadata": {
    "tags": []
   },
   "outputs": [],
   "source": [
    "# Last download time: Multiple weeks due to extreme rate-limiting.\n",
    "download_jira_issue_comments(\n",
    "    jira_data_sources['Apache'],\n",
    "    query_wait_time_minutes=0.1\n",
    ")"
   ]
  },
  {
   "cell_type": "code",
   "execution_count": null,
   "id": "feb3ba30-1836-40d1-965b-d967edb81212",
   "metadata": {
    "tags": []
   },
   "outputs": [],
   "source": [
    "# Last download time: 1h 40m (~290/m)\n",
    "download_jira_issue_comments(\n",
    "    jira_data_sources['Hyperledger']\n",
    ")"
   ]
  },
  {
   "cell_type": "code",
   "execution_count": null,
   "id": "978a2f40-f23d-4277-8f5a-a3fc7053916f",
   "metadata": {
    "tags": []
   },
   "outputs": [],
   "source": [
    "# Last download time: 3h 10m (~50/m)\n",
    "download_jira_issue_comments(\n",
    "    jira_data_sources['IntelDAOS']\n",
    ")"
   ]
  },
  {
   "cell_type": "code",
   "execution_count": null,
   "id": "ec7bc9f2-cba9-4d86-ad97-519f25e4f482",
   "metadata": {
    "tags": []
   },
   "outputs": [],
   "source": [
    "# Last download time: 1h 20m (~200/m)\n",
    "download_jira_issue_comments(\n",
    "    jira_data_sources['JFrog']\n",
    ")"
   ]
  },
  {
   "cell_type": "code",
   "execution_count": null,
   "id": "90823769-7bcd-4639-9c28-1fc3f8ec420a",
   "metadata": {},
   "outputs": [],
   "source": [
    "# Last download time: 21h 20m (~215/m)\n",
    "download_jira_issue_comments(\n",
    "    jira_data_sources['Jira']\n",
    ")"
   ]
  },
  {
   "cell_type": "code",
   "execution_count": null,
   "id": "c9dc09fe-da49-49bc-b806-b9e3b78aaef4",
   "metadata": {},
   "outputs": [],
   "source": [
    "# Last download time: 6h 40m (~105/m)\n",
    "download_jira_issue_comments(\n",
    "    jira_data_sources['JiraEcosystem']\n",
    ")"
   ]
  },
  {
   "cell_type": "code",
   "execution_count": null,
   "id": "73cb0b5d-e9c6-4849-a885-2187f3c2478b",
   "metadata": {},
   "outputs": [],
   "source": [
    "# # Last download time: h m (/m)\n",
    "# download_jira_issue_comments(\n",
    "#     jira_data_sources['MariaDB']\n",
    "# )"
   ]
  },
  {
   "cell_type": "code",
   "execution_count": null,
   "id": "5d56c546-44a2-4465-958b-90b221343ead",
   "metadata": {},
   "outputs": [],
   "source": [
    "# # Last download time: h m (/m)\n",
    "# download_jira_issue_comments(\n",
    "#     jira_data_sources['Mindville']\n",
    "# )"
   ]
  },
  {
   "cell_type": "code",
   "execution_count": null,
   "id": "d3ad9971-8835-4225-90e2-3f9e82ddbc1f",
   "metadata": {},
   "outputs": [],
   "source": [
    "# Last download time: 14h 20m (~490/m)\n",
    "download_jira_issue_comments(\n",
    "    jira_data_sources['Mojang']\n",
    ")"
   ]
  },
  {
   "cell_type": "code",
   "execution_count": null,
   "id": "08335507-ff4e-4d96-bda7-06b33fb52550",
   "metadata": {
    "tags": []
   },
   "outputs": [],
   "source": [
    "# Last download time: 18h 20m (~125/m)\n",
    "download_jira_issue_comments(\n",
    "    jira_data_sources['MongoDB']\n",
    ")"
   ]
  },
  {
   "cell_type": "code",
   "execution_count": null,
   "id": "77f44563-ef52-4960-8360-e40d55bfe1a7",
   "metadata": {},
   "outputs": [],
   "source": [
    "# Last download time: 6h 10m (~400/m)\n",
    "download_jira_issue_comments(\n",
    "    jira_data_sources['Qt']\n",
    ")"
   ]
  },
  {
   "cell_type": "code",
   "execution_count": null,
   "id": "abdf4e33-d496-4051-b3b1-93c11c397332",
   "metadata": {},
   "outputs": [],
   "source": [
    "# Last download time: 18h 5m (~325/m)\n",
    "download_jira_issue_comments(\n",
    "    jira_data_sources['RedHat']\n",
    ")"
   ]
  },
  {
   "cell_type": "code",
   "execution_count": null,
   "id": "23c5183c-7d1b-4e64-a284-8bd5ea1656f9",
   "metadata": {},
   "outputs": [],
   "source": [
    "# Last download time: 16h 50m (~50/m)\n",
    "download_jira_issue_comments(\n",
    "    jira_data_sources['Sakai']\n",
    ")"
   ]
  },
  {
   "cell_type": "code",
   "execution_count": null,
   "id": "99525d12-f676-434e-b806-87e7a52a30b0",
   "metadata": {},
   "outputs": [],
   "source": [
    "# Last download time: 0h 16m (~115/m)\n",
    "download_jira_issue_comments(\n",
    "    jira_data_sources['SecondLife']\n",
    ")"
   ]
  },
  {
   "cell_type": "code",
   "execution_count": null,
   "id": "2cba2764-2030-4439-880e-7e941234edc9",
   "metadata": {},
   "outputs": [],
   "source": [
    "# Last download time: 10h 50m (~135/m)\n",
    "download_jira_issue_comments(\n",
    "    jira_data_sources['Sonatype']\n",
    ")"
   ]
  },
  {
   "cell_type": "code",
   "execution_count": null,
   "id": "61391723-977d-43f7-bb75-e8ac69da3a3e",
   "metadata": {},
   "outputs": [],
   "source": [
    "# Last download time: 8h 0m (~145/m)\n",
    "download_jira_issue_comments(\n",
    "    jira_data_sources['Spring']\n",
    ")"
   ]
  },
  {
   "cell_type": "code",
   "execution_count": null,
   "id": "494a17af-255e-473b-9fb4-eb25bb00d66c",
   "metadata": {},
   "outputs": [],
   "source": []
  }
 ],
 "metadata": {
  "kernelspec": {
   "display_name": "Python 3 (ipykernel)",
   "language": "python",
   "name": "python3"
  },
  "language_info": {
   "codemirror_mode": {
    "name": "ipython",
    "version": 3
   },
   "file_extension": ".py",
   "mimetype": "text/x-python",
   "name": "python",
   "nbconvert_exporter": "python",
   "pygments_lexer": "ipython3",
   "version": "3.9.7"
  }
 },
 "nbformat": 4,
 "nbformat_minor": 5
}
